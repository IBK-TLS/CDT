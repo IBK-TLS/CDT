{
 "cells": [
  {
   "cell_type": "code",
   "execution_count": 35,
   "metadata": {},
   "outputs": [],
   "source": [
    "from os import listdir\n",
    "from os.path import isfile, join\n",
    "\n",
    "import numpy as np\n",
    "import pandas as pd\n",
    "import argparse\n",
    "import random\n",
    "import uuid\n",
    "import pickle\n",
    "import itertools\n",
    "\n",
    "from CDT_labelisation import labelisation_automatic\n",
    "from CDT import composition_tree\n",
    "from helper import prepare_dataset\n",
    "from CDT_test import cdt_compute_result\n"
   ]
  },
  {
   "cell_type": "code",
   "execution_count": 8,
   "metadata": {},
   "outputs": [
    {
     "name": "stdout",
     "output_type": "stream",
     "text": [
      "nb observations 23588\n",
      "ratio classes 23259 / 329\n"
     ]
    }
   ],
   "source": [
    "observations, classes = prepare_dataset(\"../data/campagne_sge/Train_DataSet\")\n",
    "\n",
    "#print(\"nb observations\", len(observations))\n",
    "#print(\"ratio classes\", len([c for c in classes if c==0]), \"/\", len([c for c in classes if c==1])) "
   ]
  },
  {
   "cell_type": "code",
   "execution_count": 16,
   "metadata": {},
   "outputs": [],
   "source": [
    "compotree = composition_tree(nclasses=2, iteration_max=100000000, epsilon=1e-6)\n",
    "compotree.fit(observations, classes)\n"
   ]
  },
  {
   "cell_type": "code",
   "execution_count": 26,
   "metadata": {},
   "outputs": [],
   "source": [
    "with open('CDT_RCIS_SGE_w5.pickle', 'wb') as f:\n",
    "    pickle.dump(compotree, f)"
   ]
  },
  {
   "cell_type": "code",
   "execution_count": 24,
   "metadata": {},
   "outputs": [
    {
     "name": "stdout",
     "output_type": "stream",
     "text": [
      "True ['FCstP(0,ML)', 'PP(ML,H)'] support: 16 [0, 16]\n",
      "\n",
      "True ['PN(-H,-ML)', 'DCstP(ML,0)'] support: 8 [0, 8]\n",
      "False ['FCstP(0,ML)', 'PP(ML,H)'] support: 4984 [4961, 23]\n",
      "\n",
      "True ['FCstN(0,ML)', 'PN(-ML,-ML)'] support: 4 [0, 4]\n",
      "False ['PN(-H,-ML)', 'DCstP(ML,0)'] support: 4976 [4961, 15]\n",
      "False ['FCstP(0,ML)', 'PP(ML,H)'] support: 4984 [4961, 23]\n",
      "\n",
      "True ['FCstN(0,H)', 'PN(-H,-H)'] support: 4 [0, 4]\n",
      "False ['FCstN(0,ML)', 'PN(-ML,-ML)'] support: 4972 [4961, 11]\n",
      "False ['PN(-H,-ML)', 'DCstP(ML,0)'] support: 4976 [4961, 15]\n",
      "False ['FCstP(0,ML)', 'PP(ML,H)'] support: 4984 [4961, 23]\n",
      "\n",
      "True ['PN(-ML,-ML)', 'DCstP(ML,0)'] support: 1 [0, 1]\n",
      "False ['FCstN(0,H)', 'PN(-H,-H)'] support: 4968 [4961, 7]\n",
      "False ['FCstN(0,ML)', 'PN(-ML,-ML)'] support: 4972 [4961, 11]\n",
      "False ['PN(-H,-ML)', 'DCstP(ML,0)'] support: 4976 [4961, 15]\n",
      "False ['FCstP(0,ML)', 'PP(ML,H)'] support: 4984 [4961, 23]\n",
      "\n",
      "True ['PN(-H,-H)', 'DCstP(H,0)'] support: 1 [0, 1]\n",
      "False ['PN(-ML,-ML)', 'DCstP(ML,0)'] support: 4967 [4961, 6]\n",
      "False ['FCstN(0,H)', 'PN(-H,-H)'] support: 4968 [4961, 7]\n",
      "False ['FCstN(0,ML)', 'PN(-ML,-ML)'] support: 4972 [4961, 11]\n",
      "False ['PN(-H,-ML)', 'DCstP(ML,0)'] support: 4976 [4961, 15]\n",
      "False ['FCstP(0,ML)', 'PP(ML,H)'] support: 4984 [4961, 23]\n",
      "\n"
     ]
    }
   ],
   "source": [
    "rpc = compotree.anomaly_rules()\n",
    "for i, rules in enumerate(rpc):\n",
    "    if i !=0:\n",
    "        for j, rule_branch in enumerate(rules):\n",
    "            for k, r in enumerate(rule_branch):\n",
    "                print(r[\"split_rule\"][\"condition\"], r[\"split_rule\"][\"composition\"], \"support:\", sum(r[\"classes\"]), r[\"classes\"] )\n",
    "            print()"
   ]
  },
  {
   "cell_type": "code",
   "execution_count": 40,
   "metadata": {},
   "outputs": [
    {
     "name": "stdout",
     "output_type": "stream",
     "text": [
      "93 9680 0 25 0.997448458869157 0.788135593220339 1.0 0.8815165876777251\n"
     ]
    }
   ],
   "source": [
    "TP, TN, FP, FN, acc, recall, precision, f1 = cdt_compute_result(\"../data/campagne_sge/Test_DataSet/\", compotree)\n",
    "print(TP, TN, FP, FN, acc, recall, precision, f1)\n"
   ]
  }
 ],
 "metadata": {
  "kernelspec": {
   "display_name": "Python 3",
   "language": "python",
   "name": "python3"
  },
  "language_info": {
   "codemirror_mode": {
    "name": "ipython",
    "version": 3
   },
   "file_extension": ".py",
   "mimetype": "text/x-python",
   "name": "python",
   "nbconvert_exporter": "python",
   "pygments_lexer": "ipython3",
   "version": "3.6.5"
  }
 },
 "nbformat": 4,
 "nbformat_minor": 2
}
