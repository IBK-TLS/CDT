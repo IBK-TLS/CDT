{
 "cells": [
  {
   "cell_type": "code",
   "execution_count": 35,
   "metadata": {},
   "outputs": [],
   "source": [
    "from os import listdir\n",
    "from os.path import isfile, join\n",
    "\n",
    "import numpy as np\n",
    "import pandas as pd\n",
    "import argparse\n",
    "import random\n",
    "import uuid\n",
    "import pickle\n",
    "import itertools\n",
    "\n",
    "from CDT_labelisation import labelisation_automatic\n",
    "from CDT import composition_tree\n",
    "from helper import prepare_dataset\n",
    "from CDT_test import cdt_compute_result\n"
   ]
  },
  {
   "cell_type": "code",
   "execution_count": 8,
   "metadata": {},
   "outputs": [
    {
     "output_type": "stream",
     "name": "stdout",
     "text": [
      "nb observations 23588\nratio classes 23259 / 329\n"
     ]
    }
   ],
   "source": [
    "observations, classes = prepare_dataset(\"../data/campagne_sge/Train_DataSet\")\n",
    "\n",
    "#print(\"nb observations\", len(observations))\n",
    "#print(\"ratio classes\", len([c for c in classes if c==0]), \"/\", len([c for c in classes if c==1])) "
   ]
  },
  {
   "cell_type": "code",
   "execution_count": 16,
   "metadata": {},
   "outputs": [],
   "source": [
    "compotree = composition_tree(nclasses, iteration_max=100000000, epsilon=1e-6)\n",
    "compotree.fit(features, classes)\n"
   ]
  },
  {
   "cell_type": "code",
   "execution_count": 26,
   "metadata": {},
   "outputs": [],
   "source": [
    "with open('CDT_RCIS_SGE_w5.pickle', 'wb') as f:\n",
    "    pickle.dump(compotree, f)"
   ]
  },
  {
   "cell_type": "code",
   "execution_count": 24,
   "metadata": {},
   "outputs": [
    {
     "output_type": "stream",
     "name": "stdout",
     "text": [
      "True ['FCstP(0,ML)', 'PP(ML,H)'] support: 16 [0, 16]\n\nTrue ['PN(-H,-ML)', 'DCstP(ML,0)'] support: 8 [0, 8]\nFalse ['FCstP(0,ML)', 'PP(ML,H)'] support: 4984 [4961, 23]\n\nTrue ['FCstN(0,ML)', 'PN(-ML,-ML)'] support: 4 [0, 4]\nFalse ['PN(-H,-ML)', 'DCstP(ML,0)'] support: 4976 [4961, 15]\nFalse ['FCstP(0,ML)', 'PP(ML,H)'] support: 4984 [4961, 23]\n\nTrue ['FCstN(0,H)', 'PN(-H,-H)'] support: 4 [0, 4]\nFalse ['FCstN(0,ML)', 'PN(-ML,-ML)'] support: 4972 [4961, 11]\nFalse ['PN(-H,-ML)', 'DCstP(ML,0)'] support: 4976 [4961, 15]\nFalse ['FCstP(0,ML)', 'PP(ML,H)'] support: 4984 [4961, 23]\n\nTrue ['PN(-ML,-ML)', 'DCstP(ML,0)'] support: 1 [0, 1]\nFalse ['FCstN(0,H)', 'PN(-H,-H)'] support: 4968 [4961, 7]\nFalse ['FCstN(0,ML)', 'PN(-ML,-ML)'] support: 4972 [4961, 11]\nFalse ['PN(-H,-ML)', 'DCstP(ML,0)'] support: 4976 [4961, 15]\nFalse ['FCstP(0,ML)', 'PP(ML,H)'] support: 4984 [4961, 23]\n\nTrue ['PN(-H,-H)', 'DCstP(H,0)'] support: 1 [0, 1]\nFalse ['PN(-ML,-ML)', 'DCstP(ML,0)'] support: 4967 [4961, 6]\nFalse ['FCstN(0,H)', 'PN(-H,-H)'] support: 4968 [4961, 7]\nFalse ['FCstN(0,ML)', 'PN(-ML,-ML)'] support: 4972 [4961, 11]\nFalse ['PN(-H,-ML)', 'DCstP(ML,0)'] support: 4976 [4961, 15]\nFalse ['FCstP(0,ML)', 'PP(ML,H)'] support: 4984 [4961, 23]\n\n"
     ]
    }
   ],
   "source": [
    "rpc = compotree.anomaly_rules()\n",
    "for i, rules in enumerate(rpc):\n",
    "    if i !=0:\n",
    "        for j, rule_branch in enumerate(rules):\n",
    "            for k, r in enumerate(rule_branch):\n",
    "                print(r[\"split_rule\"][\"condition\"], r[\"split_rule\"][\"composition\"], \"support:\", sum(r[\"classes\"]), r[\"classes\"] )\n",
    "            print()"
   ]
  },
  {
   "cell_type": "code",
   "execution_count": 40,
   "metadata": {},
   "outputs": [
    {
     "output_type": "stream",
     "name": "stdout",
     "text": [
      "93 9680 0 25 0.997448458869157 0.788135593220339 1.0 0.8815165876777251\n"
     ]
    }
   ],
   "source": [
    "TP, TN, FP, FN, acc, recall, precision, f1 = cdt_compute_result(\"../data/campagne_sge/Test_DataSet/\", compotree)\n",
    "print(TP, TN, FP, FN, acc, recall, precision, f1)\n"
   ]
  }
 ],
 "metadata": {
  "kernelspec": {
   "name": "python3",
   "display_name": "Python 3.8.5 64-bit",
   "metadata": {
    "interpreter": {
     "hash": "31f2aee4e71d21fbe5cf8b01ff0e069b9275f58929596ceb00d14d90e3e16cd6"
    }
   }
  },
  "language_info": {
   "codemirror_mode": {
    "name": "ipython",
    "version": 3
   },
   "file_extension": ".py",
   "mimetype": "text/x-python",
   "name": "python",
   "nbconvert_exporter": "python",
   "pygments_lexer": "ipython3",
   "version": "3.8.5-final"
  }
 },
 "nbformat": 4,
 "nbformat_minor": 2
}